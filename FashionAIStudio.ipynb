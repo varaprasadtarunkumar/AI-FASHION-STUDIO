{
  "nbformat": 4,
  "nbformat_minor": 0,
  "metadata": {
    "colab": {
      "private_outputs": true,
      "provenance": []
    },
    "kernelspec": {
      "name": "python3",
      "display_name": "Python 3"
    },
    "language_info": {
      "name": "python"
    },
    "accelerator": "GPU",
    "gpuClass": "standard"
  },
  "cells": [
    {
      "cell_type": "code",
      "source": [
        "%pip install --quiet --upgrade diffusers transformers accelerate mediapy"
      ],
      "metadata": {
        "id": "ufD_d64nr08H"
      },
      "execution_count": null,
      "outputs": []
    },
    {
      "cell_type": "code",
      "source": [
        "import mediapy as media\n",
        "import random\n",
        "import sys\n",
        "import torch\n",
        "\n",
        "from diffusers import AutoPipelineForText2Image\n",
        "\n",
        "pipe = AutoPipelineForText2Image.from_pretrained(\n",
        "    \"stabilityai/sdxl-turbo\",\n",
        "    torch_dtype=torch.float16,\n",
        "    use_safetensors=True,\n",
        "    variant=\"fp16\",\n",
        "    )\n",
        "\n",
        "pipe = pipe.to(\"cuda\")"
      ],
      "metadata": {
        "id": "bG2hkmSEvByV"
      },
      "execution_count": null,
      "outputs": []
    },
    {
      "cell_type": "code",
      "source": [
        "#Request information from the user\n",
        "\n",
        "topwear = input(\"Enter the type of upper garment you want (e.g., shirt, blouse, jacket):\")   #example: \"shirt white, man\"\n",
        "bottomwear = input(\"Enter the type of lower garment you want (e.g., pants, skirt, shorts):\")  #example: \"jeans\"\n",
        "accessories = input(\"Do you want to add any accessories? If so, which ones?\")  #nothing and enter\n",
        "# Create the prompt based on the user's preferences\n",
        "\n",
        "prompt = f\"Generate a unique and spectacular fashion design. The upper garment should be a {topwear}, the lower garment should be {bottomwear}, and include {accessories} as accessories. The design should be photorealistic, with cinematic lighting and hyper-realistic details. Use a cinematic composition, focusing on innovation and technology. Add high-tech elements, such as a nanotechnology helmet and cutting-edge jewelry. The model should look elegant and dynamic, with a striking pose and captivating facial expression. This stunning image is rendered in insanely high resolution, realistic, HD, HDR, XDR, focus + sharpen + wide-angle 8K resolution + Adobe Lightroom + rule-of-thirds --ar 9:16\"\n",
        "\n",
        "# Show the generated design\n",
        "seed = random.randint(0, sys.maxsize)\n",
        "num_inference_steps = 4\n",
        "images = pipe(\n",
        "    prompt=prompt,\n",
        "    guidance_scale=0.0,\n",
        "    num_inference_steps=num_inference_steps,\n",
        "    generator=torch.Generator(\"cuda\").manual_seed(seed),\n",
        ").images\n",
        "\n",
        "print(f\"Prompt:\\t{prompt}\\nSeed:\\t{seed}\")\n",
        "media.show_images(images)\n",
        "images[0].save(\"output.jpg\")"
      ],
      "metadata": {
        "id": "AUc4QJfE-uR9"
      },
      "execution_count": null,
      "outputs": []
    }
  ]
}